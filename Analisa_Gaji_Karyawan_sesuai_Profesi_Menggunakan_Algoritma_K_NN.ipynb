{
  "nbformat": 4,
  "nbformat_minor": 0,
  "metadata": {
    "colab": {
      "provenance": []
    },
    "kernelspec": {
      "name": "python3",
      "display_name": "Python 3"
    },
    "language_info": {
      "name": "python"
    }
  },
  "cells": [
    {
      "cell_type": "code",
      "execution_count": 9,
      "metadata": {
        "id": "Nan6WT-mH3dH"
      },
      "outputs": [],
      "source": [
        "import pandas as pd\n",
        "import numpy as np\n",
        "import matplotlib.pyplot as plt"
      ]
    },
    {
      "cell_type": "code",
      "source": [
        "dataset = pd.read_excel(\"data_karyawan.xlsx\")"
      ],
      "metadata": {
        "id": "mFb6bVdbIKZv"
      },
      "execution_count": 10,
      "outputs": []
    },
    {
      "cell_type": "code",
      "source": [
        "x = dataset.iloc[:, [3,4]].values\n",
        "y = dataset.iloc[:, 8].values"
      ],
      "metadata": {
        "id": "pVWCxOCCI3Dm"
      },
      "execution_count": 11,
      "outputs": []
    },
    {
      "cell_type": "markdown",
      "source": [
        "Keterangan: Principal Data scientist = 1,\n",
        "Machine Learning Enginer = 2,\n",
        "Data Scientist = 3,\n",
        "Applied Scientist = 4,\n",
        "Data Analyst = 5,\n",
        "Data Modeler = 6,\n",
        "Research Engineer = 7,\n",
        "Analytics Engineer = 8,\n",
        "Business Intelligence Engineer = 9,\n",
        "Machine Learning Engineer = 10\n",
        "Data Strategist = 11,\n",
        "Data Engineer = 12,\n",
        "Computer Vision Engineer = 14,\n",
        "Data Quality Analyst = 15,\n",
        "Compliance Data Analyst = 16,\n",
        "Research Engineer = 17,\n",
        "Data Architect = 18,\n",
        "Applied Machine Learning = 19,\n",
        "AI Developer = 20,"
      ],
      "metadata": {
        "id": "P20Wt9QvJksD"
      }
    },
    {
      "cell_type": "code",
      "source": [
        "print(x)"
      ],
      "metadata": {
        "colab": {
          "base_uri": "https://localhost:8080/"
        },
        "id": "HVv1h09nI5cr",
        "outputId": "d60246e1-033a-48c0-a4b4-bdfee44ac4b3"
      },
      "execution_count": 12,
      "outputs": [
        {
          "output_type": "stream",
          "name": "stdout",
          "text": [
            "[[      1   80000]\n",
            " [      2   30000]\n",
            " [      2   25500]\n",
            " [      3  175000]\n",
            " [      3  120000]\n",
            " [      4  222200]\n",
            " [      4  136000]\n",
            " [      3  219000]\n",
            " [      3  141000]\n",
            " [      3  147100]\n",
            " [      3   90700]\n",
            " [      5  130000]\n",
            " [      5  100000]\n",
            " [      4  213660]\n",
            " [      4  130760]\n",
            " [      6  147100]\n",
            " [      6   90700]\n",
            " [      3  170000]\n",
            " [      3  150000]\n",
            " [      5  150000]\n",
            " [      5  110000]\n",
            " [      7  275000]\n",
            " [      7  174000]\n",
            " [      8  230000]\n",
            " [      8  143200]\n",
            " [      9  225000]\n",
            " [      9  156400]\n",
            " [     10  200000]\n",
            " [     10  130000]\n",
            " [      2  130000]\n",
            " [     11   90000]\n",
            " [     11   72000]\n",
            " [     12  253200]\n",
            " [     12   90700]\n",
            " [     14  342810]\n",
            " [     14  184590]\n",
            " [     12  162500]\n",
            " [     12  130000]\n",
            " [      5  105380]\n",
            " [      5   64500]\n",
            " [     15  100000]\n",
            " [     16   30000]\n",
            " [      2 1650000]\n",
            " [      4  204620]\n",
            " [      4  110680]\n",
            " [     12  270703]\n",
            " [     12  221484]\n",
            " [      3  212750]\n",
            " [      3  185000]\n",
            " [      3  262000]\n",
            " [      3  245000]\n",
            " [      3  275300]\n",
            " [      3  183500]\n",
            " [      3  218500]\n",
            " [      3  199098]\n",
            " [     12  203300]\n",
            " [     12  123600]\n",
            " [     17  189110]\n",
            " [     17  139000]\n",
            " [      3  258750]\n",
            " [      3  185000]\n",
            " [     12  231500]\n",
            " [     12  166000]\n",
            " [      3  172500]\n",
            " [      3  110500]\n",
            " [     12  238000]\n",
            " [     12  176000]\n",
            " [     12  237000]\n",
            " [     12  201450]\n",
            " [      4  309400]\n",
            " [      4  159100]\n",
            " [     12  115000]\n",
            " [     12   81500]\n",
            " [      3  237000]\n",
            " [      3  201450]\n",
            " [     14  280000]\n",
            " [     14  210000]\n",
            " [     18  280100]\n",
            " [     18  168100]\n",
            " [     12  193500]\n",
            " [     12  139000]\n",
            " [      3  510000]\n",
            " [      2  150000]\n",
            " [     19   65000]\n",
            " [     20  300000]\n",
            " [      2   90000]\n",
            " [      9  185900]\n",
            " [      9  129300]\n",
            " [     12  225000]\n",
            " [     12  175000]\n",
            " [     12  185000]\n",
            " [     12  140000]\n",
            " [      3   45000]\n",
            " [      3   36000]\n",
            " [      3  105000]\n",
            " [      3   70000]\n",
            " [      2  163196]\n",
            " [      2  145885]\n",
            " [     12  217000]\n",
            " [     12  185000]\n",
            " [      5  202800]\n",
            " [      5  104300]\n",
            " [      5  145000]\n",
            " [      5   65000]\n",
            " [     12  165000]\n",
            " [     12  132300]\n",
            " [     12  179170]\n",
            " [     12   94300]\n",
            " [      8  152500]\n",
            " [      8  116450]\n",
            " [     12  247300]]\n"
          ]
        }
      ]
    },
    {
      "cell_type": "code",
      "source": [
        "print(y)"
      ],
      "metadata": {
        "colab": {
          "base_uri": "https://localhost:8080/"
        },
        "id": "PcurKnkPI91G",
        "outputId": "92b75e5e-9dfb-4185-d820-d4374cd1d087"
      },
      "execution_count": 13,
      "outputs": [
        {
          "output_type": "stream",
          "name": "stdout",
          "text": [
            "[100 100 100 100 100   0   0   0   0   0   0 100 100   0   0   0   0   0\n",
            "   0 100 100   0   0 100 100   0   0   0   0   0   0   0   0   0   0   0\n",
            "   0   0   0   0 100 100  50   0   0   0   0 100 100 100 100 100 100 100\n",
            " 100 100 100   0   0   0   0 100 100 100 100   0   0 100 100   0   0   0\n",
            "   0 100 100   0   0 100 100 100 100   0 100 100  50 100   0   0 100 100\n",
            "   0   0   0   0   0   0   0   0 100 100   0   0   0   0   0   0   0   0\n",
            "   0   0   0]\n"
          ]
        }
      ]
    },
    {
      "cell_type": "code",
      "source": [
        "from sklearn.model_selection import train_test_split\n",
        "x_train, x_test, y_train, y_test = train_test_split(x, y, test_size = 0.25, random_state=0)"
      ],
      "metadata": {
        "id": "VhGOFuctJGbk"
      },
      "execution_count": 14,
      "outputs": []
    },
    {
      "cell_type": "code",
      "source": [
        "len(x_train)"
      ],
      "metadata": {
        "colab": {
          "base_uri": "https://localhost:8080/"
        },
        "id": "7-8c9dfiJOq9",
        "outputId": "b08413f4-34b8-4856-f7a7-6ea2beab475c"
      },
      "execution_count": 15,
      "outputs": [
        {
          "output_type": "execute_result",
          "data": {
            "text/plain": [
              "83"
            ]
          },
          "metadata": {},
          "execution_count": 15
        }
      ]
    },
    {
      "cell_type": "code",
      "source": [
        "len(x)"
      ],
      "metadata": {
        "colab": {
          "base_uri": "https://localhost:8080/"
        },
        "id": "FDwwm2oIJcWB",
        "outputId": "9091605b-3171-4474-c0b4-60e49a58a4ea"
      },
      "execution_count": 16,
      "outputs": [
        {
          "output_type": "execute_result",
          "data": {
            "text/plain": [
              "111"
            ]
          },
          "metadata": {},
          "execution_count": 16
        }
      ]
    },
    {
      "cell_type": "code",
      "source": [
        "len(x_test)"
      ],
      "metadata": {
        "colab": {
          "base_uri": "https://localhost:8080/"
        },
        "id": "Lg6J5WGpMm7V",
        "outputId": "fd8ca764-5986-49b4-d5db-9acfb3a0720e"
      },
      "execution_count": 17,
      "outputs": [
        {
          "output_type": "execute_result",
          "data": {
            "text/plain": [
              "28"
            ]
          },
          "metadata": {},
          "execution_count": 17
        }
      ]
    },
    {
      "cell_type": "code",
      "source": [
        "len(y)"
      ],
      "metadata": {
        "colab": {
          "base_uri": "https://localhost:8080/"
        },
        "id": "bNiEk-vJNTOs",
        "outputId": "01ec31be-f728-4e14-ca4b-05b93f943d15"
      },
      "execution_count": 18,
      "outputs": [
        {
          "output_type": "execute_result",
          "data": {
            "text/plain": [
              "111"
            ]
          },
          "metadata": {},
          "execution_count": 18
        }
      ]
    },
    {
      "cell_type": "code",
      "source": [
        "len(y_train)"
      ],
      "metadata": {
        "colab": {
          "base_uri": "https://localhost:8080/"
        },
        "id": "szC-xJLRNVS_",
        "outputId": "8745122d-b094-489a-ab61-1580bb5f2cba"
      },
      "execution_count": 19,
      "outputs": [
        {
          "output_type": "execute_result",
          "data": {
            "text/plain": [
              "83"
            ]
          },
          "metadata": {},
          "execution_count": 19
        }
      ]
    },
    {
      "cell_type": "code",
      "source": [
        "len(y_test)"
      ],
      "metadata": {
        "colab": {
          "base_uri": "https://localhost:8080/"
        },
        "id": "C5wf0iE4NX9e",
        "outputId": "770b9a50-b3c3-465a-db39-7d92acbc5d5c"
      },
      "execution_count": 20,
      "outputs": [
        {
          "output_type": "execute_result",
          "data": {
            "text/plain": [
              "28"
            ]
          },
          "metadata": {},
          "execution_count": 20
        }
      ]
    },
    {
      "cell_type": "code",
      "source": [
        "from sklearn.preprocessing import StandardScaler\n",
        "sc = StandardScaler()\n",
        "x_train = sc.fit_transform(x_train)\n",
        "x_test = sc.transform(x_test)"
      ],
      "metadata": {
        "id": "Ah34S8SaNljO"
      },
      "execution_count": 21,
      "outputs": []
    },
    {
      "cell_type": "code",
      "source": [
        "print(x_train)"
      ],
      "metadata": {
        "colab": {
          "base_uri": "https://localhost:8080/"
        },
        "id": "mbEN_XFDNrVP",
        "outputId": "3864a3c5-cd25-4f0a-848f-ca40dbfdd507"
      },
      "execution_count": 22,
      "outputs": [
        {
          "output_type": "stream",
          "name": "stdout",
          "text": [
            "[[ 5.68779330e-01 -5.28385910e-01]\n",
            " [-8.19711387e-01 -2.71150867e-01]\n",
            " [-1.01806720e+00  2.86037553e-03]\n",
            " [ 7.67135147e-01 -2.48782602e-01]\n",
            " [ 7.67135147e-01 -2.91841511e-01]\n",
            " [-1.21642302e+00 -1.19069035e-01]\n",
            " [-1.01806720e+00  2.93647816e-01]\n",
            " [ 7.67135147e-01 -3.40492487e-01]\n",
            " [ 3.70423513e-01  8.67413680e-02]\n",
            " [-1.01806720e+00 -1.92861940e-01]\n",
            " [-1.01806720e+00 -6.70404515e-02]\n",
            " [-1.01806720e+00 -5.52772372e-03]\n",
            " [ 1.95727005e+00 -9.16455427e-02]\n",
            " [-1.21642302e+00 -1.92861940e-01]\n",
            " [-1.21642302e+00 -5.28385910e-01]\n",
            " [ 7.67135147e-01  3.51246098e-01]\n",
            " [-1.21642302e+00 -8.63909880e-01]\n",
            " [ 7.67135147e-01 -4.74682200e-02]\n",
            " [-1.21642302e+00  8.19523731e+00]\n",
            " [ 1.56055841e+00 -8.63909880e-01]\n",
            " [-1.01806720e+00 -3.60623925e-01]\n",
            " [-4.22999754e-01 -2.09078932e-01]\n",
            " [-1.01806720e+00 -8.10206169e-02]\n",
            " [ 1.36220260e+00 -4.72465248e-01]\n",
            " [-6.21355571e-01 -4.42379933e-01]\n",
            " [-8.19711387e-01  2.10885237e-01]\n",
            " [-1.01806720e+00  1.90194592e-01]\n",
            " [-6.21355571e-01 -4.48419364e-01]\n",
            " [ 7.67135147e-01  9.48498639e-02]\n",
            " [-1.41477884e+00 -5.84306572e-01]\n",
            " [ 1.16384678e+00  8.85344337e-01]\n",
            " [ 3.70423513e-01 -3.04703264e-01]\n",
            " [ 7.67135147e-01  1.05195186e-01]\n",
            " [-1.01806720e+00  3.38384345e-01]\n",
            " [-6.21355571e-01 -3.04703264e-01]\n",
            " [ 7.67135147e-01 -1.03388882e-01]\n",
            " [ 1.16384678e+00  5.67628403e-04]\n",
            " [-2.62881203e-02  2.54503353e-01]\n",
            " [ 5.68779330e-01 -6.29043101e-01]\n",
            " [ 7.67135147e-01 -3.88584256e-01]\n",
            " [ 1.75891423e+00  2.58437675e-02]\n",
            " [ 2.35398168e+00  6.45947985e-01]\n",
            " [-1.01806720e+00 -4.44504918e-01]\n",
            " [ 7.67135147e-01  3.84239288e-01]\n",
            " [-1.01806720e+00 -8.30357483e-01]\n",
            " [-8.19711387e-01 -3.00453293e-01]\n",
            " [ 1.16384678e+00  5.34106661e-01]\n",
            " [-6.21355571e-01 -1.92861940e-01]\n",
            " [-1.21642302e+00 -3.04703264e-01]\n",
            " [-1.01806720e+00  4.33449470e-01]\n",
            " [-2.62881203e-02 -1.78881775e-01]\n",
            " [-2.62881203e-02 -3.80475760e-01]\n",
            " [ 7.67135147e-01  5.03929379e-02]\n",
            " [-8.19711387e-01  6.98513406e-01]\n",
            " [ 7.67135147e-01 -2.54374668e-01]\n",
            " [-6.21355571e-01 -4.16544587e-01]\n",
            " [ 7.67135147e-01 -1.08980948e-01]\n",
            " [ 7.67135147e-01 -5.75918473e-01]\n",
            " [ 1.95727005e+00  5.34665868e-01]\n",
            " [ 1.72067696e-01  2.26543022e-01]\n",
            " [ 7.67135147e-01 -3.04703264e-01]\n",
            " [-1.01806720e+00  1.82028188e+00]\n",
            " [-1.21642302e+00 -2.15873293e-01]\n",
            " [ 7.67135147e-01  2.06881317e-01]\n",
            " [-6.21355571e-01  1.02399153e-01]\n",
            " [-6.21355571e-01 -6.70983597e-01]\n",
            " [ 7.67135147e-01  2.99239882e-01]\n",
            " [ 1.75891423e+00 -2.54374668e-01]\n",
            " [-6.21355571e-01 -4.72465248e-01]\n",
            " [ 7.67135147e-01  1.81806493e-01]\n",
            " [ 7.67135147e-01  2.26543022e-01]\n",
            " [-8.19711387e-01 -1.41974138e-01]\n",
            " [ 1.72067696e-01 -3.08617710e-01]\n",
            " [ 7.67135147e-01 -1.22961113e-01]\n",
            " [-2.24643937e-01  5.06146330e-01]\n",
            " [ 2.15562586e+00 -6.68187564e-01]\n",
            " [-1.01806720e+00 -2.09078932e-01]\n",
            " [-6.21355571e-01 -6.68187564e-01]\n",
            " [ 7.67135147e-01 -5.04340026e-01]\n",
            " [ 7.67135147e-01  2.93647816e-01]\n",
            " [-1.01806720e+00 -4.13748554e-01]\n",
            " [-1.01806720e+00  1.58040212e-01]\n",
            " [-8.19711387e-01 -4.12741982e-01]]\n"
          ]
        }
      ]
    },
    {
      "cell_type": "code",
      "source": [
        "print(x_test)"
      ],
      "metadata": {
        "colab": {
          "base_uri": "https://localhost:8080/"
        },
        "id": "8uvZjfAxNvqg",
        "outputId": "8f43942b-5a4e-4be2-ee98-b6e968d1e36d"
      },
      "execution_count": 23,
      "outputs": [
        {
          "output_type": "stream",
          "name": "stdout",
          "text": [
            "[[ 0.76713515  0.00286038]\n",
            " [-1.0180672  -0.52447146]\n",
            " [ 1.16384678  0.14266203]\n",
            " [-1.21642302 -0.88907418]\n",
            " [-0.02628812 -0.23088799]\n",
            " [-0.62135557 -0.22082227]\n",
            " [ 0.76713515  0.48211722]\n",
            " [-1.0180672   0.19299063]\n",
            " [-0.42299975 -0.52447146]\n",
            " [ 0.76713515  0.00286038]\n",
            " [ 0.76713515 -0.05306029]\n",
            " [-0.22464394 -0.05865235]\n",
            " [-0.81971139  0.11257671]\n",
            " [-1.0180672   0.50782395]\n",
            " [ 0.76713515  0.26289145]\n",
            " [-1.0180672   0.08169732]\n",
            " [-0.81971139  0.16312899]\n",
            " [-1.0180672   0.09484986]\n",
            " [-1.0180672  -0.78002889]\n",
            " [-1.0180672   0.00286038]\n",
            " [-1.0180672  -0.64022723]\n",
            " [-1.0180672  -0.24319054]\n",
            " [ 0.1720677  -0.15707272]\n",
            " [-1.0180672   0.41527526]\n",
            " [ 0.76713515 -0.52447146]\n",
            " [-1.0180672  -0.05306029]\n",
            " [ 0.76713515 -0.02974137]\n",
            " [ 0.1720677   0.00789324]]\n"
          ]
        }
      ]
    },
    {
      "cell_type": "code",
      "source": [
        "from sklearn.neighbors import KNeighborsClassifier\n",
        "classifier = KNeighborsClassifier(n_neighbors = 5, metric = 'minkowski', p = 2)\n",
        "classifier.fit(x_train, y_train)"
      ],
      "metadata": {
        "colab": {
          "base_uri": "https://localhost:8080/",
          "height": 100
        },
        "id": "k6ag9edIOkrF",
        "outputId": "16d8b51d-9894-473e-f034-af6431722ad4"
      },
      "execution_count": 24,
      "outputs": [
        {
          "output_type": "execute_result",
          "data": {
            "text/plain": [
              "KNeighborsClassifier()"
            ],
            "text/html": [
              "<style>#sk-container-id-1 {\n",
              "  /* Definition of color scheme common for light and dark mode */\n",
              "  --sklearn-color-text: black;\n",
              "  --sklearn-color-line: gray;\n",
              "  /* Definition of color scheme for unfitted estimators */\n",
              "  --sklearn-color-unfitted-level-0: #fff5e6;\n",
              "  --sklearn-color-unfitted-level-1: #f6e4d2;\n",
              "  --sklearn-color-unfitted-level-2: #ffe0b3;\n",
              "  --sklearn-color-unfitted-level-3: chocolate;\n",
              "  /* Definition of color scheme for fitted estimators */\n",
              "  --sklearn-color-fitted-level-0: #f0f8ff;\n",
              "  --sklearn-color-fitted-level-1: #d4ebff;\n",
              "  --sklearn-color-fitted-level-2: #b3dbfd;\n",
              "  --sklearn-color-fitted-level-3: cornflowerblue;\n",
              "\n",
              "  /* Specific color for light theme */\n",
              "  --sklearn-color-text-on-default-background: var(--sg-text-color, var(--theme-code-foreground, var(--jp-content-font-color1, black)));\n",
              "  --sklearn-color-background: var(--sg-background-color, var(--theme-background, var(--jp-layout-color0, white)));\n",
              "  --sklearn-color-border-box: var(--sg-text-color, var(--theme-code-foreground, var(--jp-content-font-color1, black)));\n",
              "  --sklearn-color-icon: #696969;\n",
              "\n",
              "  @media (prefers-color-scheme: dark) {\n",
              "    /* Redefinition of color scheme for dark theme */\n",
              "    --sklearn-color-text-on-default-background: var(--sg-text-color, var(--theme-code-foreground, var(--jp-content-font-color1, white)));\n",
              "    --sklearn-color-background: var(--sg-background-color, var(--theme-background, var(--jp-layout-color0, #111)));\n",
              "    --sklearn-color-border-box: var(--sg-text-color, var(--theme-code-foreground, var(--jp-content-font-color1, white)));\n",
              "    --sklearn-color-icon: #878787;\n",
              "  }\n",
              "}\n",
              "\n",
              "#sk-container-id-1 {\n",
              "  color: var(--sklearn-color-text);\n",
              "}\n",
              "\n",
              "#sk-container-id-1 pre {\n",
              "  padding: 0;\n",
              "}\n",
              "\n",
              "#sk-container-id-1 input.sk-hidden--visually {\n",
              "  border: 0;\n",
              "  clip: rect(1px 1px 1px 1px);\n",
              "  clip: rect(1px, 1px, 1px, 1px);\n",
              "  height: 1px;\n",
              "  margin: -1px;\n",
              "  overflow: hidden;\n",
              "  padding: 0;\n",
              "  position: absolute;\n",
              "  width: 1px;\n",
              "}\n",
              "\n",
              "#sk-container-id-1 div.sk-dashed-wrapped {\n",
              "  border: 1px dashed var(--sklearn-color-line);\n",
              "  margin: 0 0.4em 0.5em 0.4em;\n",
              "  box-sizing: border-box;\n",
              "  padding-bottom: 0.4em;\n",
              "  background-color: var(--sklearn-color-background);\n",
              "}\n",
              "\n",
              "#sk-container-id-1 div.sk-container {\n",
              "  /* jupyter's `normalize.less` sets `[hidden] { display: none; }`\n",
              "     but bootstrap.min.css set `[hidden] { display: none !important; }`\n",
              "     so we also need the `!important` here to be able to override the\n",
              "     default hidden behavior on the sphinx rendered scikit-learn.org.\n",
              "     See: https://github.com/scikit-learn/scikit-learn/issues/21755 */\n",
              "  display: inline-block !important;\n",
              "  position: relative;\n",
              "}\n",
              "\n",
              "#sk-container-id-1 div.sk-text-repr-fallback {\n",
              "  display: none;\n",
              "}\n",
              "\n",
              "div.sk-parallel-item,\n",
              "div.sk-serial,\n",
              "div.sk-item {\n",
              "  /* draw centered vertical line to link estimators */\n",
              "  background-image: linear-gradient(var(--sklearn-color-text-on-default-background), var(--sklearn-color-text-on-default-background));\n",
              "  background-size: 2px 100%;\n",
              "  background-repeat: no-repeat;\n",
              "  background-position: center center;\n",
              "}\n",
              "\n",
              "/* Parallel-specific style estimator block */\n",
              "\n",
              "#sk-container-id-1 div.sk-parallel-item::after {\n",
              "  content: \"\";\n",
              "  width: 100%;\n",
              "  border-bottom: 2px solid var(--sklearn-color-text-on-default-background);\n",
              "  flex-grow: 1;\n",
              "}\n",
              "\n",
              "#sk-container-id-1 div.sk-parallel {\n",
              "  display: flex;\n",
              "  align-items: stretch;\n",
              "  justify-content: center;\n",
              "  background-color: var(--sklearn-color-background);\n",
              "  position: relative;\n",
              "}\n",
              "\n",
              "#sk-container-id-1 div.sk-parallel-item {\n",
              "  display: flex;\n",
              "  flex-direction: column;\n",
              "}\n",
              "\n",
              "#sk-container-id-1 div.sk-parallel-item:first-child::after {\n",
              "  align-self: flex-end;\n",
              "  width: 50%;\n",
              "}\n",
              "\n",
              "#sk-container-id-1 div.sk-parallel-item:last-child::after {\n",
              "  align-self: flex-start;\n",
              "  width: 50%;\n",
              "}\n",
              "\n",
              "#sk-container-id-1 div.sk-parallel-item:only-child::after {\n",
              "  width: 0;\n",
              "}\n",
              "\n",
              "/* Serial-specific style estimator block */\n",
              "\n",
              "#sk-container-id-1 div.sk-serial {\n",
              "  display: flex;\n",
              "  flex-direction: column;\n",
              "  align-items: center;\n",
              "  background-color: var(--sklearn-color-background);\n",
              "  padding-right: 1em;\n",
              "  padding-left: 1em;\n",
              "}\n",
              "\n",
              "\n",
              "/* Toggleable style: style used for estimator/Pipeline/ColumnTransformer box that is\n",
              "clickable and can be expanded/collapsed.\n",
              "- Pipeline and ColumnTransformer use this feature and define the default style\n",
              "- Estimators will overwrite some part of the style using the `sk-estimator` class\n",
              "*/\n",
              "\n",
              "/* Pipeline and ColumnTransformer style (default) */\n",
              "\n",
              "#sk-container-id-1 div.sk-toggleable {\n",
              "  /* Default theme specific background. It is overwritten whether we have a\n",
              "  specific estimator or a Pipeline/ColumnTransformer */\n",
              "  background-color: var(--sklearn-color-background);\n",
              "}\n",
              "\n",
              "/* Toggleable label */\n",
              "#sk-container-id-1 label.sk-toggleable__label {\n",
              "  cursor: pointer;\n",
              "  display: block;\n",
              "  width: 100%;\n",
              "  margin-bottom: 0;\n",
              "  padding: 0.5em;\n",
              "  box-sizing: border-box;\n",
              "  text-align: center;\n",
              "}\n",
              "\n",
              "#sk-container-id-1 label.sk-toggleable__label-arrow:before {\n",
              "  /* Arrow on the left of the label */\n",
              "  content: \"▸\";\n",
              "  float: left;\n",
              "  margin-right: 0.25em;\n",
              "  color: var(--sklearn-color-icon);\n",
              "}\n",
              "\n",
              "#sk-container-id-1 label.sk-toggleable__label-arrow:hover:before {\n",
              "  color: var(--sklearn-color-text);\n",
              "}\n",
              "\n",
              "/* Toggleable content - dropdown */\n",
              "\n",
              "#sk-container-id-1 div.sk-toggleable__content {\n",
              "  max-height: 0;\n",
              "  max-width: 0;\n",
              "  overflow: hidden;\n",
              "  text-align: left;\n",
              "  /* unfitted */\n",
              "  background-color: var(--sklearn-color-unfitted-level-0);\n",
              "}\n",
              "\n",
              "#sk-container-id-1 div.sk-toggleable__content.fitted {\n",
              "  /* fitted */\n",
              "  background-color: var(--sklearn-color-fitted-level-0);\n",
              "}\n",
              "\n",
              "#sk-container-id-1 div.sk-toggleable__content pre {\n",
              "  margin: 0.2em;\n",
              "  border-radius: 0.25em;\n",
              "  color: var(--sklearn-color-text);\n",
              "  /* unfitted */\n",
              "  background-color: var(--sklearn-color-unfitted-level-0);\n",
              "}\n",
              "\n",
              "#sk-container-id-1 div.sk-toggleable__content.fitted pre {\n",
              "  /* unfitted */\n",
              "  background-color: var(--sklearn-color-fitted-level-0);\n",
              "}\n",
              "\n",
              "#sk-container-id-1 input.sk-toggleable__control:checked~div.sk-toggleable__content {\n",
              "  /* Expand drop-down */\n",
              "  max-height: 200px;\n",
              "  max-width: 100%;\n",
              "  overflow: auto;\n",
              "}\n",
              "\n",
              "#sk-container-id-1 input.sk-toggleable__control:checked~label.sk-toggleable__label-arrow:before {\n",
              "  content: \"▾\";\n",
              "}\n",
              "\n",
              "/* Pipeline/ColumnTransformer-specific style */\n",
              "\n",
              "#sk-container-id-1 div.sk-label input.sk-toggleable__control:checked~label.sk-toggleable__label {\n",
              "  color: var(--sklearn-color-text);\n",
              "  background-color: var(--sklearn-color-unfitted-level-2);\n",
              "}\n",
              "\n",
              "#sk-container-id-1 div.sk-label.fitted input.sk-toggleable__control:checked~label.sk-toggleable__label {\n",
              "  background-color: var(--sklearn-color-fitted-level-2);\n",
              "}\n",
              "\n",
              "/* Estimator-specific style */\n",
              "\n",
              "/* Colorize estimator box */\n",
              "#sk-container-id-1 div.sk-estimator input.sk-toggleable__control:checked~label.sk-toggleable__label {\n",
              "  /* unfitted */\n",
              "  background-color: var(--sklearn-color-unfitted-level-2);\n",
              "}\n",
              "\n",
              "#sk-container-id-1 div.sk-estimator.fitted input.sk-toggleable__control:checked~label.sk-toggleable__label {\n",
              "  /* fitted */\n",
              "  background-color: var(--sklearn-color-fitted-level-2);\n",
              "}\n",
              "\n",
              "#sk-container-id-1 div.sk-label label.sk-toggleable__label,\n",
              "#sk-container-id-1 div.sk-label label {\n",
              "  /* The background is the default theme color */\n",
              "  color: var(--sklearn-color-text-on-default-background);\n",
              "}\n",
              "\n",
              "/* On hover, darken the color of the background */\n",
              "#sk-container-id-1 div.sk-label:hover label.sk-toggleable__label {\n",
              "  color: var(--sklearn-color-text);\n",
              "  background-color: var(--sklearn-color-unfitted-level-2);\n",
              "}\n",
              "\n",
              "/* Label box, darken color on hover, fitted */\n",
              "#sk-container-id-1 div.sk-label.fitted:hover label.sk-toggleable__label.fitted {\n",
              "  color: var(--sklearn-color-text);\n",
              "  background-color: var(--sklearn-color-fitted-level-2);\n",
              "}\n",
              "\n",
              "/* Estimator label */\n",
              "\n",
              "#sk-container-id-1 div.sk-label label {\n",
              "  font-family: monospace;\n",
              "  font-weight: bold;\n",
              "  display: inline-block;\n",
              "  line-height: 1.2em;\n",
              "}\n",
              "\n",
              "#sk-container-id-1 div.sk-label-container {\n",
              "  text-align: center;\n",
              "}\n",
              "\n",
              "/* Estimator-specific */\n",
              "#sk-container-id-1 div.sk-estimator {\n",
              "  font-family: monospace;\n",
              "  border: 1px dotted var(--sklearn-color-border-box);\n",
              "  border-radius: 0.25em;\n",
              "  box-sizing: border-box;\n",
              "  margin-bottom: 0.5em;\n",
              "  /* unfitted */\n",
              "  background-color: var(--sklearn-color-unfitted-level-0);\n",
              "}\n",
              "\n",
              "#sk-container-id-1 div.sk-estimator.fitted {\n",
              "  /* fitted */\n",
              "  background-color: var(--sklearn-color-fitted-level-0);\n",
              "}\n",
              "\n",
              "/* on hover */\n",
              "#sk-container-id-1 div.sk-estimator:hover {\n",
              "  /* unfitted */\n",
              "  background-color: var(--sklearn-color-unfitted-level-2);\n",
              "}\n",
              "\n",
              "#sk-container-id-1 div.sk-estimator.fitted:hover {\n",
              "  /* fitted */\n",
              "  background-color: var(--sklearn-color-fitted-level-2);\n",
              "}\n",
              "\n",
              "/* Specification for estimator info (e.g. \"i\" and \"?\") */\n",
              "\n",
              "/* Common style for \"i\" and \"?\" */\n",
              "\n",
              ".sk-estimator-doc-link,\n",
              "a:link.sk-estimator-doc-link,\n",
              "a:visited.sk-estimator-doc-link {\n",
              "  float: right;\n",
              "  font-size: smaller;\n",
              "  line-height: 1em;\n",
              "  font-family: monospace;\n",
              "  background-color: var(--sklearn-color-background);\n",
              "  border-radius: 1em;\n",
              "  height: 1em;\n",
              "  width: 1em;\n",
              "  text-decoration: none !important;\n",
              "  margin-left: 1ex;\n",
              "  /* unfitted */\n",
              "  border: var(--sklearn-color-unfitted-level-1) 1pt solid;\n",
              "  color: var(--sklearn-color-unfitted-level-1);\n",
              "}\n",
              "\n",
              ".sk-estimator-doc-link.fitted,\n",
              "a:link.sk-estimator-doc-link.fitted,\n",
              "a:visited.sk-estimator-doc-link.fitted {\n",
              "  /* fitted */\n",
              "  border: var(--sklearn-color-fitted-level-1) 1pt solid;\n",
              "  color: var(--sklearn-color-fitted-level-1);\n",
              "}\n",
              "\n",
              "/* On hover */\n",
              "div.sk-estimator:hover .sk-estimator-doc-link:hover,\n",
              ".sk-estimator-doc-link:hover,\n",
              "div.sk-label-container:hover .sk-estimator-doc-link:hover,\n",
              ".sk-estimator-doc-link:hover {\n",
              "  /* unfitted */\n",
              "  background-color: var(--sklearn-color-unfitted-level-3);\n",
              "  color: var(--sklearn-color-background);\n",
              "  text-decoration: none;\n",
              "}\n",
              "\n",
              "div.sk-estimator.fitted:hover .sk-estimator-doc-link.fitted:hover,\n",
              ".sk-estimator-doc-link.fitted:hover,\n",
              "div.sk-label-container:hover .sk-estimator-doc-link.fitted:hover,\n",
              ".sk-estimator-doc-link.fitted:hover {\n",
              "  /* fitted */\n",
              "  background-color: var(--sklearn-color-fitted-level-3);\n",
              "  color: var(--sklearn-color-background);\n",
              "  text-decoration: none;\n",
              "}\n",
              "\n",
              "/* Span, style for the box shown on hovering the info icon */\n",
              ".sk-estimator-doc-link span {\n",
              "  display: none;\n",
              "  z-index: 9999;\n",
              "  position: relative;\n",
              "  font-weight: normal;\n",
              "  right: .2ex;\n",
              "  padding: .5ex;\n",
              "  margin: .5ex;\n",
              "  width: min-content;\n",
              "  min-width: 20ex;\n",
              "  max-width: 50ex;\n",
              "  color: var(--sklearn-color-text);\n",
              "  box-shadow: 2pt 2pt 4pt #999;\n",
              "  /* unfitted */\n",
              "  background: var(--sklearn-color-unfitted-level-0);\n",
              "  border: .5pt solid var(--sklearn-color-unfitted-level-3);\n",
              "}\n",
              "\n",
              ".sk-estimator-doc-link.fitted span {\n",
              "  /* fitted */\n",
              "  background: var(--sklearn-color-fitted-level-0);\n",
              "  border: var(--sklearn-color-fitted-level-3);\n",
              "}\n",
              "\n",
              ".sk-estimator-doc-link:hover span {\n",
              "  display: block;\n",
              "}\n",
              "\n",
              "/* \"?\"-specific style due to the `<a>` HTML tag */\n",
              "\n",
              "#sk-container-id-1 a.estimator_doc_link {\n",
              "  float: right;\n",
              "  font-size: 1rem;\n",
              "  line-height: 1em;\n",
              "  font-family: monospace;\n",
              "  background-color: var(--sklearn-color-background);\n",
              "  border-radius: 1rem;\n",
              "  height: 1rem;\n",
              "  width: 1rem;\n",
              "  text-decoration: none;\n",
              "  /* unfitted */\n",
              "  color: var(--sklearn-color-unfitted-level-1);\n",
              "  border: var(--sklearn-color-unfitted-level-1) 1pt solid;\n",
              "}\n",
              "\n",
              "#sk-container-id-1 a.estimator_doc_link.fitted {\n",
              "  /* fitted */\n",
              "  border: var(--sklearn-color-fitted-level-1) 1pt solid;\n",
              "  color: var(--sklearn-color-fitted-level-1);\n",
              "}\n",
              "\n",
              "/* On hover */\n",
              "#sk-container-id-1 a.estimator_doc_link:hover {\n",
              "  /* unfitted */\n",
              "  background-color: var(--sklearn-color-unfitted-level-3);\n",
              "  color: var(--sklearn-color-background);\n",
              "  text-decoration: none;\n",
              "}\n",
              "\n",
              "#sk-container-id-1 a.estimator_doc_link.fitted:hover {\n",
              "  /* fitted */\n",
              "  background-color: var(--sklearn-color-fitted-level-3);\n",
              "}\n",
              "</style><div id=\"sk-container-id-1\" class=\"sk-top-container\"><div class=\"sk-text-repr-fallback\"><pre>KNeighborsClassifier()</pre><b>In a Jupyter environment, please rerun this cell to show the HTML representation or trust the notebook. <br />On GitHub, the HTML representation is unable to render, please try loading this page with nbviewer.org.</b></div><div class=\"sk-container\" hidden><div class=\"sk-item\"><div class=\"sk-estimator fitted sk-toggleable\"><input class=\"sk-toggleable__control sk-hidden--visually\" id=\"sk-estimator-id-1\" type=\"checkbox\" checked><label for=\"sk-estimator-id-1\" class=\"sk-toggleable__label fitted sk-toggleable__label-arrow fitted\">&nbsp;&nbsp;KNeighborsClassifier<a class=\"sk-estimator-doc-link fitted\" rel=\"noreferrer\" target=\"_blank\" href=\"https://scikit-learn.org/1.5/modules/generated/sklearn.neighbors.KNeighborsClassifier.html\">?<span>Documentation for KNeighborsClassifier</span></a><span class=\"sk-estimator-doc-link fitted\">i<span>Fitted</span></span></label><div class=\"sk-toggleable__content fitted\"><pre>KNeighborsClassifier()</pre></div> </div></div></div></div>"
            ]
          },
          "metadata": {},
          "execution_count": 24
        }
      ]
    },
    {
      "cell_type": "code",
      "source": [
        "y_pred = classifier.predict(x_test)"
      ],
      "metadata": {
        "id": "j49MnE_pO9b2"
      },
      "execution_count": 25,
      "outputs": []
    },
    {
      "cell_type": "code",
      "source": [
        "from sklearn.metrics import confusion_matrix\n",
        "cm = confusion_matrix(y_test, y_pred)\n",
        "print(cm)"
      ],
      "metadata": {
        "colab": {
          "base_uri": "https://localhost:8080/"
        },
        "id": "6SJiTaeuPHI2",
        "outputId": "45c4bff1-a872-4386-f8e6-5a789b1d6a8a"
      },
      "execution_count": 26,
      "outputs": [
        {
          "output_type": "stream",
          "name": "stdout",
          "text": [
            "[[ 8 11]\n",
            " [ 2  7]]\n"
          ]
        }
      ]
    },
    {
      "cell_type": "code",
      "source": [
        "from matplotlib.colors import ListedColormap\n",
        "x_set, y_set = x_train, y_train\n",
        "x1, x2 = np.meshgrid(np.arange(start = x_set[:, 0].min()-1, stop = x_set[:, 0].max() + 1, step=0.01),\n",
        "                     np.arange(start = x_set[:, 0].min()-1, stop = x_set[:, 0].max() + 1, step=0.01))\n",
        "plt.contourf(x1, x2, classifier.predict(np.array([x1.ravel(), x2.ravel()]).T).reshape(x1.shape),\n",
        "             alpha = 0.75, cmap = ListedColormap(['red', 'green']))\n",
        "plt.xlim(x1.min(), x1.max())\n",
        "plt.ylim(x2.min(), x2.max())\n",
        "for i, j in enumerate(np.unique(y_set)):\n",
        "    plt.scatter(x_set[y_set == j, 0], x_set[y_set == j, 1],\n",
        "                c = ['red', 'green'][i], label = j)  # Use color names directly for scatter points\n",
        "plt.title('Klasifikasi Data dengan K-NN (Data Training)')\n",
        "plt.xlabel('Bidang Pekerjaan')\n",
        "plt.ylabel('Estimasi Gaji')\n",
        "plt.legend()\n",
        "plt.show()"
      ],
      "metadata": {
        "colab": {
          "base_uri": "https://localhost:8080/",
          "height": 661
        },
        "id": "GaWDR2oyPfT9",
        "outputId": "57948073-529d-4b18-b387-e8e70cf7c55b"
      },
      "execution_count": 29,
      "outputs": [
        {
          "output_type": "error",
          "ename": "IndexError",
          "evalue": "list index out of range",
          "traceback": [
            "\u001b[0;31m---------------------------------------------------------------------------\u001b[0m",
            "\u001b[0;31mIndexError\u001b[0m                                Traceback (most recent call last)",
            "\u001b[0;32m<ipython-input-29-a5759dbb5596>\u001b[0m in \u001b[0;36m<cell line: 9>\u001b[0;34m()\u001b[0m\n\u001b[1;32m      9\u001b[0m \u001b[0;32mfor\u001b[0m \u001b[0mi\u001b[0m\u001b[0;34m,\u001b[0m \u001b[0mj\u001b[0m \u001b[0;32min\u001b[0m \u001b[0menumerate\u001b[0m\u001b[0;34m(\u001b[0m\u001b[0mnp\u001b[0m\u001b[0;34m.\u001b[0m\u001b[0munique\u001b[0m\u001b[0;34m(\u001b[0m\u001b[0my_set\u001b[0m\u001b[0;34m)\u001b[0m\u001b[0;34m)\u001b[0m\u001b[0;34m:\u001b[0m\u001b[0;34m\u001b[0m\u001b[0;34m\u001b[0m\u001b[0m\n\u001b[1;32m     10\u001b[0m     plt.scatter(x_set[y_set == j, 0], x_set[y_set == j, 1],\n\u001b[0;32m---> 11\u001b[0;31m                 c = ['red', 'green'][i], label = j)  # Use color names directly for scatter points\n\u001b[0m\u001b[1;32m     12\u001b[0m \u001b[0mplt\u001b[0m\u001b[0;34m.\u001b[0m\u001b[0mtitle\u001b[0m\u001b[0;34m(\u001b[0m\u001b[0;34m'Klasifikasi Data dengan K-NN (Data Training)'\u001b[0m\u001b[0;34m)\u001b[0m\u001b[0;34m\u001b[0m\u001b[0;34m\u001b[0m\u001b[0m\n\u001b[1;32m     13\u001b[0m \u001b[0mplt\u001b[0m\u001b[0;34m.\u001b[0m\u001b[0mxlabel\u001b[0m\u001b[0;34m(\u001b[0m\u001b[0;34m'Bidang Pekerjaan'\u001b[0m\u001b[0;34m)\u001b[0m\u001b[0;34m\u001b[0m\u001b[0;34m\u001b[0m\u001b[0m\n",
            "\u001b[0;31mIndexError\u001b[0m: list index out of range"
          ]
        },
        {
          "output_type": "display_data",
          "data": {
            "text/plain": [
              "<Figure size 640x480 with 1 Axes>"
            ],
            "image/png": "[encoded data removed]"
          },
          "metadata": {}
        }
      ]
    }
  ]
}